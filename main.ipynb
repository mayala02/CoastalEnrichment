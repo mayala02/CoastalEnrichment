{
 "cells": [
  {
   "cell_type": "code",
   "execution_count": 1,
   "metadata": {},
   "outputs": [],
   "source": [
    "import os \n",
    "import psycopg2\n",
    "import json #for json files\n",
    "import sys #used to close json file\n",
    "import geopandas as gpd"
   ]
  },
  {
   "cell_type": "code",
   "execution_count": null,
   "metadata": {},
   "outputs": [],
   "source": [
    "from functions import insar_jobs\n",
    "from functions import send_jobs\n",
    "from functions import process_tifs"
   ]
  },
  {
   "cell_type": "code",
   "execution_count": null,
   "metadata": {},
   "outputs": [],
   "source": [
    "#Connectiong to the postgres database\n",
    "conn = psycopg2.connect(host='localhost',database = 'postgres', user='postgres',password = 'postgrespw',port=32768)\n",
    "tableName = \"oyster\""
   ]
  },
  {
   "cell_type": "code",
   "execution_count": null,
   "metadata": {},
   "outputs": [],
   "source": [
    "#creating the table for the project\n",
    "cursor = conn.cursor()\n",
    "cursor.execute(f\"CREATE TABLE IF NOT EXISTS {tableName} (id serial, pair text,site text, insar_name text, reference_date date, vertdisp_path text, coherence_path text)\")\n",
    "conn.commit()\n",
    "cursor.close()"
   ]
  },
  {
   "cell_type": "code",
   "execution_count": 5,
   "metadata": {},
   "outputs": [],
   "source": [
    "#create path to the shapefile you want to use\n",
    "directory = os.getcwd()\n",
    "inputFiles = os.path.join(directory,\"geodata\")\n",
    "shpPath = os.path.join(inputFiles,'BB_Merge.shp')\n",
    "output = os.path.join(directory, tableName+'_rawData')\n",
    "if not os.path.exists(output):\n",
    "    os.makedirs(output)"
   ]
  },
  {
   "cell_type": "code",
   "execution_count": null,
   "metadata": {},
   "outputs": [],
   "source": [
    "jsonFile = open('geodata/Login.json')\n",
    "login = json.load(jsonFile)\n",
    "\n",
    "userName = login['UserName']\n",
    "if userName == \"\":\n",
    "    print(\"Please input Username\")\n",
    "    sys.exit()\n",
    "password = login['Password']\n",
    "if password ==\"\":\n",
    "    print(\"Please input Password\")\n",
    "    sys.exit()\n",
    "\n",
    "jsonFile.close()"
   ]
  },
  {
   "cell_type": "code",
   "execution_count": null,
   "metadata": {},
   "outputs": [],
   "source": [
    "#create a list of all insar jobs to be sent to asf\n",
    "projectJobs = insar_jobs(shpPath,conn,tableName)"
   ]
  },
  {
   "cell_type": "code",
   "execution_count": null,
   "metadata": {},
   "outputs": [],
   "source": [
    "#Send project jobs to ASF \n",
    "sendProject = send_jobs(userName,password,projectJobs,output)"
   ]
  },
  {
   "cell_type": "code",
   "execution_count": null,
   "metadata": {},
   "outputs": [],
   "source": [
    "#Crop and reproject all tif files\n",
    "process = process_tifs(output,tableName,shpPath,conn)"
   ]
  },
  {
   "cell_type": "code",
   "execution_count": 9,
   "metadata": {},
   "outputs": [],
   "source": [
    "#select insar list between select time frame\n",
    "afterEnrichment = 52 #number of weeks after enrichment\n",
    "preEnrichment = 52 #number of weeks before enrichment\n",
    "shp = gpd.GeoDataFrame.from_file(shpPath)"
   ]
  },
  {
   "cell_type": "code",
   "execution_count": null,
   "metadata": {},
   "outputs": [],
   "source": [
    "print(shp)"
   ]
  },
  {
   "cell_type": "code",
   "execution_count": null,
   "metadata": {},
   "outputs": [],
   "source": [
    "insars = get_insars(tableName,conn,afterEnrichment,preEnrichment,shpPath)"
   ]
  },
  {
   "cell_type": "code",
   "execution_count": null,
   "metadata": {},
   "outputs": [],
   "source": [
    "def get_insars(project,conn,date2,date1):\n",
    "    date2 = str(d2 + timedelta(weeks = 52))\n",
    "    date1 = str(d2 - timedelta(weeks = 52))\n",
    "    try:\n",
    "        cursor = conn.cursor()\n",
    "        cursor.execute(f\"SELECT vertdisp_path from {tableName} where reference_date BETWEEN %s AND %s\",(date1,date2))\n",
    "        insars = cursor.fetchall()\n",
    "        cursor.close()\n",
    "    except:\n",
    "        conn = psycopg2.connect(host='localhost',database = 'postgres', user='postgres',password = 'postgrespw',port=32768)"
   ]
  }
 ],
 "metadata": {
  "kernelspec": {
   "display_name": "Python 3.10.5 64-bit",
   "language": "python",
   "name": "python3"
  },
  "language_info": {
   "codemirror_mode": {
    "name": "ipython",
    "version": 3
   },
   "file_extension": ".py",
   "mimetype": "text/x-python",
   "name": "python",
   "nbconvert_exporter": "python",
   "pygments_lexer": "ipython3",
   "version": "3.10.12"
  },
  "orig_nbformat": 4,
  "vscode": {
   "interpreter": {
    "hash": "9b4d75ac280b6c7c3aa43866cb82dc88915409b55fec83a093dd0284cb58708e"
   }
  }
 },
 "nbformat": 4,
 "nbformat_minor": 2
}
