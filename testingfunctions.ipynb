{
 "cells": [
  {
   "cell_type": "code",
   "execution_count": 7,
   "metadata": {},
   "outputs": [],
   "source": [
    "import json #for json files\n",
    "import sys #used to close json file\n",
    "import asf_search as asf #ASF search API tool\n",
    "from hyp3_sdk import HyP3 #ASF API tool for sending INSAR jobs\n",
    "import csv #creating a .csv\n",
    "import requests #for checking status of job\n",
    "\n",
    "#import libraries for file management\n",
    "import os \n",
    "from zipfile import ZipFile \n",
    "import shutil\n",
    "\n",
    "import geopandas as gpd\n",
    "import pandas as pd\n",
    "from datetime import datetime\n",
    "from datetime import timedelta\n",
    "\n",
    "import psycopg2"
   ]
  },
  {
   "cell_type": "code",
   "execution_count": 2,
   "metadata": {},
   "outputs": [],
   "source": [
    "conn = psycopg2.connect(host='localhost',database = 'postgres', user='postgres',password = 'postgrespw',port=32768)"
   ]
  },
  {
   "cell_type": "code",
   "execution_count": 7,
   "metadata": {},
   "outputs": [
    {
     "name": "stdout",
     "output_type": "stream",
     "text": [
      "Unit1D2019\n"
     ]
    }
   ],
   "source": [
    "directory = os.getcwd()\n",
    "inputFiles = os.path.join(directory,\"geodata\")\n",
    "\n",
    "shp = gpd.GeoDataFrame.from_file('geodata/SC-Unit1D.shp')\n",
    "geometry = str(shp['geometry'][0])\n",
    "date = str(shp['Date'][0])\n",
    "JobName = str(shp['Name'][0]).replace(\" \",\"\").replace(\"-\",\"\")\n",
    "print(JobName)\n",
    "d2 = datetime.strptime(date, '%Y-%m-%d')\n",
    "end = str(d2 + timedelta(days = 1)*365)\n",
    "start = str(d2 - timedelta(days = 1)*365)\n"
   ]
  },
  {
   "cell_type": "code",
   "execution_count": 3,
   "metadata": {},
   "outputs": [
    {
     "name": "stdout",
     "output_type": "stream",
     "text": [
      "epsg:4326\n"
     ]
    },
    {
     "data": {
      "text/plain": [
       "str"
      ]
     },
     "execution_count": 3,
     "metadata": {},
     "output_type": "execute_result"
    }
   ],
   "source": [
    "CRS = str(shp.crs)\n",
    "print(CRS)\n",
    "type(CRS)"
   ]
  },
  {
   "cell_type": "code",
   "execution_count": null,
   "metadata": {},
   "outputs": [],
   "source": [
    "jsonFile = open('geodata/Login.json')\n",
    "login = json.load(jsonFile)\n",
    "\n",
    "userName = login['UserName']\n",
    "if userName == \"\":\n",
    "    print(\"Please input Username\")\n",
    "    sys.exit()\n",
    "pw = login['Password']\n",
    "if pw ==\"\":\n",
    "    print(\"Please input Password\")\n",
    "    sys.exit()\n",
    "\n",
    "jsonFile.close()"
   ]
  },
  {
   "cell_type": "code",
   "execution_count": null,
   "metadata": {},
   "outputs": [],
   "source": [
    "#Create an API search based on set parameters\n",
    "searchResults = asf.search(\n",
    "    #search parameters taken from filled out json file\n",
    "    platform = \"Sentinel-1\",\n",
    "    beamMode = \"IW\",\n",
    "    polarization = \"VV+VH\",\n",
    "    intersectsWith = geometry, \n",
    "    processingLevel= \"SLC\",\n",
    "    start = start,\n",
    "    end = end\n",
    ")\n",
    "print('Done')\n",
    "data = searchResults.geojson()"
   ]
  },
  {
   "cell_type": "code",
   "execution_count": 5,
   "metadata": {},
   "outputs": [],
   "source": [
    "#Extracts scenes from job search and creates list of all scene names\n",
    "def get_scene_name(): \n",
    "    count = len(data[\"features\"])                   \n",
    "    scenes = []\n",
    "    dates = []\n",
    "    for x in range(count):\n",
    "        scene = data[\"features\"][x][\"properties\"][\"sceneName\"]\n",
    "        date = data[\"features\"][x][\"properties\"][\"startTime\"]\n",
    "        scenes.append(scene)\n",
    "        dates.append(date)\n",
    "    scenes.reverse()\n",
    "    dates.reverse()\n",
    "    df = pd.DataFrame(list(zip(dates, scenes)),columns =['Dates', 'SceneNames'])\n",
    "    return df\n",
    "scenesList= get_scene_name() #list with all scene names"
   ]
  },
  {
   "cell_type": "code",
   "execution_count": null,
   "metadata": {},
   "outputs": [],
   "source": [
    "\n",
    "filtered = scenesList.drop_duplicates()\n",
    "scenes = list(filtered['SceneNames'])\n",
    "dates = list(filtered['Dates'])"
   ]
  },
  {
   "cell_type": "code",
   "execution_count": null,
   "metadata": {},
   "outputs": [],
   "source": [
    "def create_jobs(data,date): \n",
    "    jobs = [] \n",
    "    count = len(data) \n",
    "    for i in range(count-1): \n",
    "        scene1 = data[i]\n",
    "        scene2 = data[i+1]\n",
    "        if date[i+1].endswith('Z'):\n",
    "            sceneDate = datetime.strptime(date[i+1], '%Y-%m-%dT%H:%M:%S.%fZ').date()\n",
    "        else:\n",
    "            sceneDate = datetime.strptime(date[i+1], '%Y-%m-%dT%H:%M:%S.%f').date()\n",
    "        insar_job = HyP3.prepare_insar_job(scene1, scene2, name = JobName, include_displacement_maps=True,include_dem=True,include_look_vectors=True)\n",
    "        jobs.append(insar_job) \n",
    "        pair = scene1+','+scene2\n",
    "        try:\n",
    "            cursor = conn.cursor()\n",
    "            cursor.execute(\"INSERT INTO project1 (pair, site, reference_date) VALUES(%s, %s, %s)\", (pair, JobName, sceneDate))\n",
    "            conn.commit()\n",
    "            cursor.close()\n",
    "        except:\n",
    "            conn = psycopg2.connect(host='localhost',database = 'postgres', user='postgres',password = 'postgrespw',port=32768)\n",
    "    return jobs \n",
    "jobsList = create_jobs(scenes, dates)\n"
   ]
  },
  {
   "cell_type": "code",
   "execution_count": null,
   "metadata": {},
   "outputs": [],
   "source": [
    "hyp3 = HyP3(username = userName, password = pw) #authenticate using ASF credentials\n",
    "batch = hyp3.submit_prepared_jobs(prepared_jobs = jobsList)\n",
    "\n",
    "#Creates New Folder called \"data\" where the jobs will be downloaded\n",
    "output = os.path.join(directory, 'rawData')\n",
    "if not os.path.exists(output):\n",
    "    os.makedirs(output)\n",
    "\n",
    "#Watch and Download job\n",
    "if not batch.complete():\n",
    "    batch = hyp3.watch(batch)\n",
    "#Downloads files into data folder\n",
    "batch.download_files(location = output)"
   ]
  },
  {
   "cell_type": "code",
   "execution_count": null,
   "metadata": {},
   "outputs": [],
   "source": [
    "#Creates List of zip file names\n",
    "zipfiles = os.listdir(output)\n",
    "\n",
    "#Unzips each zip file and deletes the zip\n",
    "for x in range(len(zipfiles)):\n",
    "    file = os.path.join(output, zipfiles[x])\n",
    "    with ZipFile(file, 'r') as zip:\n",
    "        zip.extractall(output)\n",
    "    os.remove(file)"
   ]
  },
  {
   "cell_type": "code",
   "execution_count": null,
   "metadata": {},
   "outputs": [],
   "source": [
    "\n",
    "output = os.path.join(directory, 'rawData')\n",
    "folderList = os.listdir(output)\n",
    "tifList = []\n",
    "#Loop through the folders\n",
    "for x in range(len(folderList)):\n",
    "    folderName = os.path.join(output, folderList[x])\n",
    "    fileList = os.listdir(folderName)\n",
    "    #Loop through files in folder\n",
    "    for file in fileList:\n",
    "        #Select file that ends in vert_disp.tif\n",
    "        if file.endswith(\".tif\"):\n",
    "            fileName = os.path.join(folderName, file)\n",
    "            tifList.append(fileName)\n",
    "        if file.startswith(folderList[x]+'.txt'):\n",
    "            fileName = os.path.join(folderName, file)\n",
    "            f = open(fileName,'r')\n",
    "            lines = f.readlines()\n",
    "            scene1 = lines[0].split(' ')\n",
    "            scene2 = lines[1].split(' ')\n",
    "         \n",
    "            pair = scene1[2].replace('\\n','')+','+scene2[2].replace('\\n','')\n",
    "            try:\n",
    "                cursor = conn.cursor()\n",
    "                cursor.execute(\"SELECT insar_name from project1 where insar_name = %s\",(folderList[x],))\n",
    "                row = cursor.fetchall()\n",
    "                if row == []:\n",
    "                    cursor.execute(\"UPDATE project1 SET insar_name = %s where pair = %s\",(folderList[x],pair))\n",
    "                    conn.commit()\n",
    "                cursor.close()\n",
    "            except:\n",
    "                conn = psycopg2.connect(host='localhost',database = 'postgres', user='postgres',password = 'postgrespw',port=32768)"
   ]
  },
  {
   "cell_type": "code",
   "execution_count": 8,
   "metadata": {},
   "outputs": [],
   "source": [
    "#Libraries for dealing with geotifs\n",
    "from osgeo import gdal,ogr\n",
    "import rasterio as rio"
   ]
  },
  {
   "cell_type": "code",
   "execution_count": null,
   "metadata": {},
   "outputs": [],
   "source": [
    "dataset = rio.open(tifList[0])\n",
    "boundingBox = dataset.bounds\n",
    "left = boundingBox.left\n",
    "right = boundingBox.right\n",
    "top = boundingBox.top\n",
    "bottom = boundingBox.bottom\n",
    "print(boundingBox)\n",
    "for x in range(1,len(tifList)):\n",
    "    dataset = rio.open(tifList[x])\n",
    "    boundingBox = dataset.bounds\n",
    "    if boundingBox.left < left:\n",
    "        left = boundingBox.left\n",
    "    if boundingBox.right < right:\n",
    "        right = boundingBox.right\n",
    "    if boundingBox.top < top:\n",
    "        top = boundingBox.top\n",
    "    if boundingBox.bottom < bottom:\n",
    "        bottom = boundingBox.bottom\n",
    "    print(left,bottom,right,top)\n",
    "minbbox = (left,bottom,right,top)"
   ]
  },
  {
   "cell_type": "code",
   "execution_count": null,
   "metadata": {},
   "outputs": [],
   "source": [
    "#Crop the water mask incase it does not have the min bounds\n",
    "#For loop to crop all the tif files to the min bounds\n",
    "#all files need to be the same height and width to work with them in numpy\n",
    "opts = gdal.WarpOptions(options=['tr'], outputBounds=minbbox, format=\"GTiff\")\n",
    "for geoTif in tifList:\n",
    "    dataset = gdal.Open(geoTif)\n",
    "    newfile = gdal.Warp(geoTif.split('.')[0]+'_crop.tif', dataset , options=opts)\n",
    "    dataset = None #close the file"
   ]
  },
  {
   "cell_type": "code",
   "execution_count": null,
   "metadata": {},
   "outputs": [],
   "source": [
    "import subprocess\n",
    "from mintpy.cli import tsview\n",
    "from mintpy.cli import plot_transection\n",
    "import ipympl"
   ]
  },
  {
   "cell_type": "code",
   "execution_count": null,
   "metadata": {},
   "outputs": [],
   "source": [
    "runMinty = subprocess.run([\"smallbaselineApp.py\",\"mintpyConfigFile.txt\"])\n",
    "getVelocity = subprocess.run([\"smallbaselineApp.py\", \"--dostep\", \"velocity\", \"mintpyConfigFile.txt\"])"
   ]
  },
  {
   "cell_type": "code",
   "execution_count": null,
   "metadata": {},
   "outputs": [],
   "source": [
    "%matplotlib widget\n",
    "ts_file = os.path.expanduser('timeseries.h5')\n",
    "cmd = f'{ts_file} --yx 220 300 --figsize 9 3'\n",
    "tsview.main(cmd.split())"
   ]
  },
  {
   "cell_type": "code",
   "execution_count": null,
   "metadata": {},
   "outputs": [],
   "source": [
    "vel_file = os.path.expanduser('avgPhaseVelocity.h5')\n",
    "cmd = f'{vel_file} --figsize 10 5'\n",
    "plot_transection.main(cmd.split())"
   ]
  },
  {
   "cell_type": "code",
   "execution_count": 9,
   "metadata": {},
   "outputs": [],
   "source": [
    "import h5py\n",
    "import pandas as pd"
   ]
  },
  {
   "cell_type": "code",
   "execution_count": 10,
   "metadata": {},
   "outputs": [],
   "source": [
    "directory =os.getcwd()\n",
    "timeseriesPath = os.path.join(directory, 'new')\n",
    "geometryPath = os.path.join(timeseriesPath, 'inputs')\n",
    "geometryFile = os.path.join(geometryPath, ' geometryGeo.h5')\n",
    "timeseriesh5 = os.path.join(timeseriesPath, 'timeseries.h5')"
   ]
  },
  {
   "cell_type": "code",
   "execution_count": 11,
   "metadata": {},
   "outputs": [
    {
     "name": "stdout",
     "output_type": "stream",
     "text": [
      "                                       keys       values\n",
      "0                                    ALOOKS            4\n",
      "1                              ANTENNA_SIDE           -1\n",
      "2                        AZIMUTH_PIXEL_SIZE         56.4\n",
      "3                                     BANDS            1\n",
      "4                           CENTER_LINE_UTC  1111.334526\n",
      "..                                      ...          ...\n",
      "61  mintpy.networkInversion.minNormVelocity         True\n",
      "62    mintpy.networkInversion.minRedundancy          1.0\n",
      "63        mintpy.networkInversion.numIfgram           47\n",
      "64   mintpy.networkInversion.obsDatasetName  unwrapPhase\n",
      "65       mintpy.networkInversion.weightFunc          var\n",
      "\n",
      "[66 rows x 2 columns]\n"
     ]
    }
   ],
   "source": [
    "with h5py.File(timeseriesh5,'r') as f:\n",
    "    keys=list(f['/'].attrs.keys())\n",
    "    values = list(f['/'].attrs.values())\n",
    "    h5df=pd.DataFrame(list(zip(keys, values)), columns =['keys','values'])\n",
    "\n",
    "    print(h5df)"
   ]
  },
  {
   "cell_type": "code",
   "execution_count": 43,
   "metadata": {},
   "outputs": [
    {
     "name": "stdout",
     "output_type": "stream",
     "text": [
      "259840.0 3122000.0 544560.0 3349440.0\n",
      "EPSG:32615\n"
     ]
    }
   ],
   "source": [
    "lats = h5df[h5df['keys'].str.contains('LAT_REF')].drop_duplicates(['values'])\n",
    "longs = h5df[h5df['keys'].str.contains('LON_REF')].drop_duplicates(['values'])\n",
    "EPSG = h5df[h5df['keys'].str.contains('EPSG')]\n",
    "setEPSG = str('EPSG:'+list(EPSG['values'])[0])\n",
    "lat1 = list(lats['values'])[0]\n",
    "lat2 = list(lats['values'])[1]\n",
    "long1 = list(longs['values'])[0]\n",
    "long2 = list(longs['values'])[1]\n",
    "print(long1,lat1,long2,lat2)\n",
    "print(setEPSG)"
   ]
  },
  {
   "cell_type": "code",
   "execution_count": null,
   "metadata": {},
   "outputs": [],
   "source": [
    "subprocess.run(['gdal_translate', '-of', 'GTiff', '-a_srs', setEPSG, '-a_ullr',long1,lat1,long2,lat2, './new/timeseries.h5', './new/timeseries3.tif'])\n",
    "#Long1 lat1 long2 lat2 \n",
    "#!gdal_translate -of GTiff -a_srs EPSG:32615 -a_ullr 259840 3122000 544560 3349440 ./new/timeseries.h5 ./new/timeseries3.tif"
   ]
  },
  {
   "cell_type": "code",
   "execution_count": 8,
   "metadata": {},
   "outputs": [],
   "source": [
    "import rioxarray\n",
    "import rasterio\n",
    "from rasterio.warp import calculate_default_transform, reproject, Resampling"
   ]
  },
  {
   "cell_type": "code",
   "execution_count": 10,
   "metadata": {},
   "outputs": [],
   "source": [
    "from rasterio.plot import plotting_extent"
   ]
  },
  {
   "cell_type": "code",
   "execution_count": null,
   "metadata": {},
   "outputs": [],
   "source": [
    "# Create a buffered polygon layer from your plot location points\n",
    "shpBuff = shp.copy()\n",
    "\n",
    "# Buffer each point using a 20 meter circle radius \n",
    "# and replace the point geometry with the new buffered geometry\n",
    "shpBuff[\"geometry\"] = shp.geometry.buffer(0.01)\n",
    "shpBuff.geometry\n",
    "inputFiles = os.path.join(directory,\"geodata\")\n",
    "saveBuffer = os.path.join(inputFiles,JobName+\"buffed.shp\")\n",
    "shpBuff.to_file(saveBuffer)\n"
   ]
  },
  {
   "cell_type": "code",
   "execution_count": 63,
   "metadata": {},
   "outputs": [],
   "source": [
    "import rioxarray as rxr\n",
    "import rasterstats as rs\n",
    "import numpy as np\n",
    "import rasterio as rio\n",
    "import matplotlib.pyplot as plt"
   ]
  },
  {
   "cell_type": "code",
   "execution_count": 35,
   "metadata": {},
   "outputs": [],
   "source": [
    "timeseries = os.path.join(timeseriesPath, 'timeseries3.tif')\n",
    "ts = rxr.open_rasterio(timeseries)\n",
    "tsNoZeros = ts.where(ts != 0, np.nan)"
   ]
  },
  {
   "cell_type": "code",
   "execution_count": 39,
   "metadata": {},
   "outputs": [],
   "source": [
    "crs = shp.crs\n",
    "tsFinal = tsNoZeros.rio.reproject(crs)"
   ]
  },
  {
   "cell_type": "code",
   "execution_count": null,
   "metadata": {},
   "outputs": [],
   "source": [
    "# Extract zonal stats\n",
    "timeseriesStats = gpd.GeoDataFrame(columns=['count','min','mean','max','median'])\n",
    "for x in range(len(tsFinal.values)):\n",
    "    current = tsFinal.values[x]\n",
    "    currentStats = rs.zonal_stats(saveBuffer,\n",
    "                                    current,\n",
    "                                    affine=tsFinal.rio.transform(),\n",
    "                                    geojson_out=True,\n",
    "                                    copy_properties=True,\n",
    "                                    stats=\"count min mean max median\")\n",
    "    properties=currentStats[0]['properties']\n",
    "    stats = properties['count'], properties['min'], properties['mean'], properties['max'],properties['median']\n",
    "    \n",
    "    #print(type(currentStats[0]))\n",
    "    timeseriesStats.loc[len(timeseriesStats)] = stats\n",
    "\n",
    "print(timeseriesStats)\n",
    "# View object type\n"
   ]
  },
  {
   "cell_type": "code",
   "execution_count": 65,
   "metadata": {},
   "outputs": [
    {
     "data": {
      "text/plain": [
       "[<matplotlib.lines.Line2D at 0x224d063afe0>]"
      ]
     },
     "execution_count": 65,
     "metadata": {},
     "output_type": "execute_result"
    },
    {
     "data": {
      "image/png": "[encoded data removed]",
      "text/plain": [
       "<Figure size 432x288 with 1 Axes>"
      ]
     },
     "metadata": {
      "needs_background": "light"
     },
     "output_type": "display_data"
    }
   ],
   "source": [
    "fig = plt.figure()\n",
    "ax = plt.axes()\n",
    "ax.plot(timeseriesStats['mean'])"
   ]
  }
 ],
 "metadata": {
  "kernelspec": {
   "display_name": "Python 3.10.5 64-bit",
   "language": "python",
   "name": "python3"
  },
  "language_info": {
   "codemirror_mode": {
    "name": "ipython",
    "version": 3
   },
   "file_extension": ".py",
   "mimetype": "text/x-python",
   "name": "python",
   "nbconvert_exporter": "python",
   "pygments_lexer": "ipython3",
   "version": "3.10.5"
  },
  "orig_nbformat": 4,
  "vscode": {
   "interpreter": {
    "hash": "9b4d75ac280b6c7c3aa43866cb82dc88915409b55fec83a093dd0284cb58708e"
   }
  }
 },
 "nbformat": 4,
 "nbformat_minor": 2
}
