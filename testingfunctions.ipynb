{
 "cells": [
  {
   "cell_type": "code",
   "execution_count": 1,
   "metadata": {},
   "outputs": [],
   "source": [
    "import json #for json files\n",
    "import sys #used to close json file\n",
    "import asf_search as asf #ASF search API tool\n",
    "from hyp3_sdk import HyP3 #ASF API tool for sending INSAR jobs\n",
    "import csv #creating a .csv\n",
    "import requests #for checking status of job\n",
    "\n",
    "#import libraries for file management\n",
    "import os \n",
    "from zipfile import ZipFile \n",
    "import shutil\n",
    "\n",
    "import geopandas as gpd\n",
    "import pandas as pd\n",
    "from datetime import datetime\n",
    "from datetime import timedelta\n",
    "\n",
    "import psycopg2"
   ]
  },
  {
   "cell_type": "markdown",
   "metadata": {},
   "source": []
  },
  {
   "cell_type": "code",
   "execution_count": 8,
   "metadata": {},
   "outputs": [],
   "source": [
    "conn = psycopg2.connect(host='localhost',database = 'postgres', user='postgres',password = 'postgrespw',port=32768)"
   ]
  },
  {
   "cell_type": "code",
   "execution_count": 3,
   "metadata": {},
   "outputs": [
    {
     "name": "stdout",
     "output_type": "stream",
     "text": [
      "Unit1D2019\n"
     ]
    }
   ],
   "source": [
    "directory = os.getcwd()\n",
    "\n",
    "shp = gpd.GeoDataFrame.from_file('geodata/SC-Unit1D.shp')\n",
    "geometry = str(shp['geometry'][0])\n",
    "date = str(shp['Date'][0])\n",
    "JobName = str(shp['Name'][0]).replace(\" \",\"\").replace(\"-\",\"\")\n",
    "print(JobName)\n",
    "d2 = datetime.strptime(date, '%Y-%m-%d')\n",
    "end = str(d2 + timedelta(days = 1)*365)\n",
    "start = str(d2 - timedelta(days = 1)*365)"
   ]
  },
  {
   "cell_type": "code",
   "execution_count": 65,
   "metadata": {},
   "outputs": [
    {
     "ename": "TypeError",
     "evalue": "'NoneType' object is not callable",
     "output_type": "error",
     "traceback": [
      "\u001b[1;31m---------------------------------------------------------------------------\u001b[0m",
      "\u001b[1;31mTypeError\u001b[0m                                 Traceback (most recent call last)",
      "\u001b[1;32mc:\\Users\\Melay\\Documents\\CoastalEnrichment\\Code\\testingfunctions.ipynb Cell 5\u001b[0m in \u001b[0;36m<cell line: 1>\u001b[1;34m()\u001b[0m\n\u001b[1;32m----> <a href='vscode-notebook-cell:/c%3A/Users/Melay/Documents/CoastalEnrichment/Code/testingfunctions.ipynb#W3sZmlsZQ%3D%3D?line=0'>1</a>\u001b[0m jsonFile \u001b[39m=\u001b[39m \u001b[39mopen\u001b[39;49m(\u001b[39m'\u001b[39;49m\u001b[39mgeodata/Login.json\u001b[39;49m\u001b[39m'\u001b[39;49m)\n\u001b[0;32m      <a href='vscode-notebook-cell:/c%3A/Users/Melay/Documents/CoastalEnrichment/Code/testingfunctions.ipynb#W3sZmlsZQ%3D%3D?line=1'>2</a>\u001b[0m login \u001b[39m=\u001b[39m json\u001b[39m.\u001b[39mload(jsonFile)\n\u001b[0;32m      <a href='vscode-notebook-cell:/c%3A/Users/Melay/Documents/CoastalEnrichment/Code/testingfunctions.ipynb#W3sZmlsZQ%3D%3D?line=3'>4</a>\u001b[0m userName \u001b[39m=\u001b[39m login[\u001b[39m'\u001b[39m\u001b[39mUserName\u001b[39m\u001b[39m'\u001b[39m]\n",
      "\u001b[1;31mTypeError\u001b[0m: 'NoneType' object is not callable"
     ]
    }
   ],
   "source": [
    "jsonFile = open('geodata/Login.json')\n",
    "login = json.load(jsonFile)\n",
    "\n",
    "userName = login['UserName']\n",
    "if userName == \"\":\n",
    "    print(\"Please input Username\")\n",
    "    sys.exit()\n",
    "pw = login['Password']\n",
    "if pw ==\"\":\n",
    "    print(\"Please input Password\")\n",
    "    sys.exit()\n",
    "\n",
    "jsonFile.close()"
   ]
  },
  {
   "cell_type": "code",
   "execution_count": 4,
   "metadata": {},
   "outputs": [
    {
     "name": "stderr",
     "output_type": "stream",
     "text": [
      "C:\\Users\\Melay\\AppData\\Roaming\\Python\\Python310\\site-packages\\dateparser\\date_parser.py:35: PytzUsageWarning: The localize method is no longer necessary, as this time zone supports the fold attribute (PEP 495). For more details on migrating to a PEP 495-compliant implementation, see https://pytz-deprecation-shim.readthedocs.io/en/latest/migration.html\n",
      "  date_obj = stz.localize(date_obj)\n"
     ]
    },
    {
     "name": "stdout",
     "output_type": "stream",
     "text": [
      "Done\n"
     ]
    }
   ],
   "source": [
    "#Create an API search based on set parameters\n",
    "searchResults = asf.search(\n",
    "    #search parameters taken from filled out json file\n",
    "    platform = \"Sentinel-1\",\n",
    "    beamMode = \"IW\",\n",
    "    polarization = \"VV+VH\",\n",
    "    intersectsWith = geometry, \n",
    "    processingLevel= \"SLC\",\n",
    "    start = start,\n",
    "    end = end\n",
    ")\n",
    "print('Done')\n",
    "data = searchResults.geojson()"
   ]
  },
  {
   "cell_type": "code",
   "execution_count": null,
   "metadata": {},
   "outputs": [],
   "source": [
    "data = searchResults.geojson()\n",
    "print(data)"
   ]
  },
  {
   "cell_type": "code",
   "execution_count": 6,
   "metadata": {},
   "outputs": [],
   "source": [
    "#Extracts scenes from job search and creates list of all scene names\n",
    "def get_scene_name(): \n",
    "    count = len(data[\"features\"])                   \n",
    "    scenes = []\n",
    "    dates = []\n",
    "    for x in range(count):\n",
    "        scene = data[\"features\"][x][\"properties\"][\"sceneName\"]\n",
    "        date = data[\"features\"][x][\"properties\"][\"startTime\"]\n",
    "        scenes.append(scene)\n",
    "        dates.append(date)\n",
    "    scenes.reverse()\n",
    "    dates.reverse()\n",
    "    df = pd.DataFrame(list(zip(dates, scenes)),columns =['Dates', 'SceneNames'])\n",
    "    return df\n",
    "scenesList= get_scene_name() #list with all scene names"
   ]
  },
  {
   "cell_type": "code",
   "execution_count": null,
   "metadata": {},
   "outputs": [],
   "source": [
    "print(scenesList)"
   ]
  },
  {
   "cell_type": "code",
   "execution_count": null,
   "metadata": {},
   "outputs": [],
   "source": [
    "\n",
    "filtered = scenesList.drop_duplicates()\n",
    "scenes = list(filtered['SceneNames'])\n",
    "dates = list(filtered['Dates'])\n",
    "print(scenes)"
   ]
  },
  {
   "cell_type": "code",
   "execution_count": null,
   "metadata": {},
   "outputs": [],
   "source": [
    "def create_jobs(data,date): \n",
    "    jobs = [] \n",
    "    count = len(data) \n",
    "    for i in range(count-1): \n",
    "        scene1 = data[i]\n",
    "        scene2 = data[i+1]\n",
    "        sceneDate = datetime.strptime(date[i+1], '%Y-%m-%dT%H:%M:%S.%f').date()\n",
    "        print(sceneDate)\n",
    "        print(len(scene2))\n",
    "        insar_job = HyP3.prepare_insar_job(scene1, scene2, name = JobName, include_displacement_maps=True,include_dem=True,include_look_vectors=True) \n",
    "        print(insar_job)\n",
    "        jobs.append(insar_job) \n",
    "        pair = scene1+','+scene2\n",
    "        cursor = conn.cursor()\n",
    "        cursor.execute(\"INSERT INTO project1 (pair, site, reference_date) VALUES(%s, %s, %s)\", (pair, JobName, sceneDate))\n",
    "        conn.commit()\n",
    "        cursor.close()\n",
    "    return jobs \n",
    "jobsList = create_jobs(scenes, dates)\n",
    "\n",
    "#List of only 50 potential jobs for testing\n",
    "print(jobsList[0:50])\n"
   ]
  },
  {
   "cell_type": "code",
   "execution_count": null,
   "metadata": {},
   "outputs": [],
   "source": []
  },
  {
   "cell_type": "code",
   "execution_count": null,
   "metadata": {},
   "outputs": [],
   "source": [
    "hyp3 = HyP3(username = userName, password = pw) #authenticate using ASF credentials\n",
    "batch = hyp3.submit_prepared_jobs(prepared_jobs = jobsList)\n",
    "\n",
    "#Creates New Folder called \"data\" where the jobs will be downloaded\n",
    "output = os.path.join(directory, 'rawData')\n",
    "if not os.path.exists(output):\n",
    "    os.makedirs(output)\n",
    "\n",
    "#Watch and Download job\n",
    "if not batch.complete():\n",
    "    batch = hyp3.watch(batch)\n",
    "#Downloads files into data folder\n",
    "batch.download_files(location = output)"
   ]
  },
  {
   "cell_type": "code",
   "execution_count": 11,
   "metadata": {},
   "outputs": [
    {
     "name": "stdout",
     "output_type": "stream",
     "text": [
      "c:\\Users\\Melay\\Documents\\CoastalEnrichment\\Code\\rawData\\S1AA_20181006T001831_20181018T001831_VVP012_INT80_G_ueF_F50E.zip\n",
      "c:\\Users\\Melay\\Documents\\CoastalEnrichment\\Code\\rawData\\S1AA_20181018T001831_20181030T001831_VVP012_INT80_G_ueF_0F0B.zip\n",
      "c:\\Users\\Melay\\Documents\\CoastalEnrichment\\Code\\rawData\\S1AA_20181030T001831_20181111T001831_VVP012_INT80_G_ueF_AC52.zip\n",
      "c:\\Users\\Melay\\Documents\\CoastalEnrichment\\Code\\rawData\\S1AA_20181111T001831_20181123T001831_VVP012_INT80_G_ueF_9372.zip\n",
      "c:\\Users\\Melay\\Documents\\CoastalEnrichment\\Code\\rawData\\S1AA_20181123T001831_20181217T001830_VVP024_INT80_G_ueF_65E9.zip\n",
      "c:\\Users\\Melay\\Documents\\CoastalEnrichment\\Code\\rawData\\S1AA_20181217T001830_20181229T001829_VVP012_INT80_G_ueF_4C33.zip\n",
      "c:\\Users\\Melay\\Documents\\CoastalEnrichment\\Code\\rawData\\S1AA_20181229T001829_20190110T001829_VVP012_INT80_G_ueF_DD12.zip\n",
      "c:\\Users\\Melay\\Documents\\CoastalEnrichment\\Code\\rawData\\S1AA_20190110T001829_20190122T001828_VVP012_INT80_G_ueF_BDDB.zip\n",
      "c:\\Users\\Melay\\Documents\\CoastalEnrichment\\Code\\rawData\\S1AA_20190122T001828_20190203T001828_VVP012_INT80_G_ueF_6F5B.zip\n",
      "c:\\Users\\Melay\\Documents\\CoastalEnrichment\\Code\\rawData\\S1AA_20190203T001828_20190404T001828_VVP060_INT80_G_ueF_D12E.zip\n",
      "c:\\Users\\Melay\\Documents\\CoastalEnrichment\\Code\\rawData\\S1AA_20190404T001828_20190416T001828_VVP012_INT80_G_ueF_3636.zip\n",
      "c:\\Users\\Melay\\Documents\\CoastalEnrichment\\Code\\rawData\\S1AA_20190416T001828_20190510T001829_VVP024_INT80_G_ueF_604C.zip\n",
      "c:\\Users\\Melay\\Documents\\CoastalEnrichment\\Code\\rawData\\S1AA_20190510T001829_20190522T001830_VVP012_INT80_G_ueF_9896.zip\n",
      "c:\\Users\\Melay\\Documents\\CoastalEnrichment\\Code\\rawData\\S1AA_20190522T001830_20190615T001831_VVP024_INT80_G_ueF_A545.zip\n",
      "c:\\Users\\Melay\\Documents\\CoastalEnrichment\\Code\\rawData\\S1AA_20190615T001831_20190627T001832_VVP012_INT80_G_ueF_8AE9.zip\n",
      "c:\\Users\\Melay\\Documents\\CoastalEnrichment\\Code\\rawData\\S1AA_20190627T001832_20190709T001833_VVP012_INT80_G_ueF_C4B5.zip\n",
      "c:\\Users\\Melay\\Documents\\CoastalEnrichment\\Code\\rawData\\S1AA_20190709T001833_20190721T001834_VVP012_INT80_G_ueF_13E7.zip\n",
      "c:\\Users\\Melay\\Documents\\CoastalEnrichment\\Code\\rawData\\S1AA_20190721T001834_20190802T001834_VVP012_INT80_G_ueF_A26E.zip\n",
      "c:\\Users\\Melay\\Documents\\CoastalEnrichment\\Code\\rawData\\S1AA_20190802T001834_20190814T001835_VVP012_INT80_G_ueF_81C5.zip\n",
      "c:\\Users\\Melay\\Documents\\CoastalEnrichment\\Code\\rawData\\S1AA_20190814T001835_20190826T001836_VVP012_INT80_G_ueF_880B.zip\n",
      "c:\\Users\\Melay\\Documents\\CoastalEnrichment\\Code\\rawData\\S1AA_20190826T001836_20190907T001836_VVP012_INT80_G_ueF_A920.zip\n",
      "c:\\Users\\Melay\\Documents\\CoastalEnrichment\\Code\\rawData\\S1AA_20190907T001836_20190919T001837_VVP012_INT80_G_ueF_0E0E.zip\n",
      "c:\\Users\\Melay\\Documents\\CoastalEnrichment\\Code\\rawData\\S1AA_20190919T001837_20191001T001837_VVP012_INT80_G_ueF_2DA5.zip\n",
      "c:\\Users\\Melay\\Documents\\CoastalEnrichment\\Code\\rawData\\S1AA_20191001T001837_20191013T001837_VVP012_INT80_G_ueF_C67E.zip\n",
      "c:\\Users\\Melay\\Documents\\CoastalEnrichment\\Code\\rawData\\S1AA_20191013T001837_20191106T001837_VVP024_INT80_G_ueF_886E.zip\n",
      "c:\\Users\\Melay\\Documents\\CoastalEnrichment\\Code\\rawData\\S1AA_20191106T001837_20191118T001837_VVP012_INT80_G_ueF_554C.zip\n",
      "c:\\Users\\Melay\\Documents\\CoastalEnrichment\\Code\\rawData\\S1AA_20191118T001837_20191130T001837_VVP012_INT80_G_ueF_7863.zip\n",
      "c:\\Users\\Melay\\Documents\\CoastalEnrichment\\Code\\rawData\\S1AA_20191130T001837_20191212T001836_VVP012_INT80_G_ueF_CA4D.zip\n",
      "c:\\Users\\Melay\\Documents\\CoastalEnrichment\\Code\\rawData\\S1AA_20191212T001836_20200117T001835_VVP036_INT80_G_ueF_4B92.zip\n",
      "c:\\Users\\Melay\\Documents\\CoastalEnrichment\\Code\\rawData\\S1AA_20200117T001835_20200129T001834_VVP012_INT80_G_ueF_1999.zip\n",
      "c:\\Users\\Melay\\Documents\\CoastalEnrichment\\Code\\rawData\\S1AA_20200129T001834_20200210T001834_VVP012_INT80_G_ueF_DF43.zip\n",
      "c:\\Users\\Melay\\Documents\\CoastalEnrichment\\Code\\rawData\\S1AA_20200210T001834_20200317T001834_VVP036_INT80_G_ueF_CD4C.zip\n",
      "c:\\Users\\Melay\\Documents\\CoastalEnrichment\\Code\\rawData\\S1AA_20200317T001834_20200329T001834_VVP012_INT80_G_ueF_0CEC.zip\n",
      "c:\\Users\\Melay\\Documents\\CoastalEnrichment\\Code\\rawData\\S1AA_20200329T001834_20200410T001834_VVP012_INT80_G_ueF_E19F.zip\n",
      "c:\\Users\\Melay\\Documents\\CoastalEnrichment\\Code\\rawData\\S1AA_20200410T001834_20200422T001835_VVP012_INT80_G_ueF_EDCA.zip\n",
      "c:\\Users\\Melay\\Documents\\CoastalEnrichment\\Code\\rawData\\S1AA_20200422T001835_20200504T001822_VVP012_INT80_G_ueF_F32E.zip\n",
      "c:\\Users\\Melay\\Documents\\CoastalEnrichment\\Code\\rawData\\S1AA_20200504T001822_20200516T001823_VVP012_INT80_G_ueF_653C.zip\n",
      "c:\\Users\\Melay\\Documents\\CoastalEnrichment\\Code\\rawData\\S1AA_20200516T001823_20200528T001823_VVP012_INT80_G_ueF_2AEE.zip\n",
      "c:\\Users\\Melay\\Documents\\CoastalEnrichment\\Code\\rawData\\S1AA_20200528T001823_20200609T001838_VVP012_INT80_G_ueF_10C3.zip\n",
      "c:\\Users\\Melay\\Documents\\CoastalEnrichment\\Code\\rawData\\S1AA_20200609T001838_20200621T001838_VVP012_INT80_G_ueF_A21B.zip\n",
      "c:\\Users\\Melay\\Documents\\CoastalEnrichment\\Code\\rawData\\S1AA_20200621T001838_20200703T001839_VVP012_INT80_G_ueF_2320.zip\n",
      "c:\\Users\\Melay\\Documents\\CoastalEnrichment\\Code\\rawData\\S1AA_20200703T001839_20200715T001840_VVP012_INT80_G_ueF_4DC0.zip\n",
      "c:\\Users\\Melay\\Documents\\CoastalEnrichment\\Code\\rawData\\S1AA_20200715T001840_20200727T001841_VVP012_INT80_G_ueF_31DF.zip\n",
      "c:\\Users\\Melay\\Documents\\CoastalEnrichment\\Code\\rawData\\S1AA_20200727T001841_20200808T001841_VVP012_INT80_G_ueF_8744.zip\n",
      "c:\\Users\\Melay\\Documents\\CoastalEnrichment\\Code\\rawData\\S1AA_20200808T001841_20200820T001842_VVP012_INT80_G_ueF_48DA.zip\n",
      "c:\\Users\\Melay\\Documents\\CoastalEnrichment\\Code\\rawData\\S1AA_20200820T001842_20200901T001843_VVP012_INT80_G_ueF_8A04.zip\n",
      "c:\\Users\\Melay\\Documents\\CoastalEnrichment\\Code\\rawData\\S1AA_20200913T001843_20200925T001843_VVP012_INT80_G_ueF_4C34.zip\n"
     ]
    }
   ],
   "source": [
    "#Creates List of zip file names\n",
    "zipfiles = os.listdir(output)\n",
    "\n",
    "#Unzips each zip file and deletes the zip\n",
    "for x in range(len(zipfiles)):\n",
    "    file = os.path.join(output, zipfiles[x])\n",
    "    print(file)\n",
    "    with ZipFile(file, 'r') as zip:\n",
    "        zip.extractall(output)\n",
    "    os.remove(file)"
   ]
  },
  {
   "cell_type": "code",
   "execution_count": 16,
   "metadata": {},
   "outputs": [
    {
     "name": "stdout",
     "output_type": "stream",
     "text": [
      "S1A_IW_SLC__1SDV_20181006T001831_20181006T001858_024008_029F7D_A5FC,S1A_IW_SLC__1SDV_20181018T001831_20181018T001858_024183_02A534_24E3\n",
      "S1A_IW_SLC__1SDV_20181018T001831_20181018T001858_024183_02A534_24E3,S1A_IW_SLC__1SDV_20181030T001831_20181030T001858_024358_02AAD0_3405\n",
      "S1A_IW_SLC__1SDV_20181030T001831_20181030T001858_024358_02AAD0_3405,S1A_IW_SLC__1SDV_20181111T001831_20181111T001858_024533_02B121_5FA7\n",
      "S1A_IW_SLC__1SDV_20181111T001831_20181111T001858_024533_02B121_5FA7,S1A_IW_SLC__1SDV_20181123T001831_20181123T001858_024708_02B792_F0D5\n",
      "S1A_IW_SLC__1SDV_20181123T001831_20181123T001858_024708_02B792_F0D5,S1A_IW_SLC__1SDV_20181217T001830_20181217T001857_025058_02C3CD_BCEA\n",
      "S1A_IW_SLC__1SDV_20181217T001830_20181217T001857_025058_02C3CD_BCEA,S1A_IW_SLC__1SDV_20181229T001829_20181229T001856_025233_02CA25_3D1A\n",
      "S1A_IW_SLC__1SDV_20181229T001829_20181229T001856_025233_02CA25_3D1A,S1A_IW_SLC__1SDV_20190110T001829_20190110T001856_025408_02D072_3832\n",
      "S1A_IW_SLC__1SDV_20190110T001829_20190110T001856_025408_02D072_3832,S1A_IW_SLC__1SDV_20190122T001828_20190122T001856_025583_02D6D0_8AAA\n",
      "S1A_IW_SLC__1SDV_20190122T001828_20190122T001856_025583_02D6D0_8AAA,S1A_IW_SLC__1SDV_20190203T001828_20190203T001855_025758_02DD31_D359\n",
      "S1A_IW_SLC__1SDV_20190203T001828_20190203T001855_025758_02DD31_D359,S1A_IW_SLC__1SDV_20190404T001828_20190404T001855_026633_02FCE5_D875\n",
      "S1A_IW_SLC__1SDV_20190404T001828_20190404T001855_026633_02FCE5_D875,S1A_IW_SLC__1SDV_20190416T001828_20190416T001855_026808_030341_33BF\n",
      "S1A_IW_SLC__1SDV_20190416T001828_20190416T001855_026808_030341_33BF,S1A_IW_SLC__1SDV_20190510T001829_20190510T001856_027158_030FB5_2A70\n",
      "S1A_IW_SLC__1SDV_20190510T001829_20190510T001856_027158_030FB5_2A70,S1A_IW_SLC__1SDV_20190522T001830_20190522T001857_027333_031530_19B0\n",
      "S1A_IW_SLC__1SDV_20190522T001830_20190522T001857_027333_031530_19B0,S1A_IW_SLC__1SDV_20190615T001831_20190615T001858_027683_031FEA_821E\n",
      "S1A_IW_SLC__1SDV_20190615T001831_20190615T001858_027683_031FEA_821E,S1A_IW_SLC__1SDV_20190627T001832_20190627T001859_027858_032523_112C\n",
      "S1A_IW_SLC__1SDV_20190627T001832_20190627T001859_027858_032523_112C,S1A_IW_SLC__1SDV_20190709T001833_20190709T001900_028033_032A78_FDF5\n",
      "S1A_IW_SLC__1SDV_20190709T001833_20190709T001900_028033_032A78_FDF5,S1A_IW_SLC__1SDV_20190721T001834_20190721T001901_028208_032FBD_C7AB\n",
      "S1A_IW_SLC__1SDV_20190721T001834_20190721T001901_028208_032FBD_C7AB,S1A_IW_SLC__1SDV_20190802T001834_20190802T001901_028383_033512_F54A\n",
      "S1A_IW_SLC__1SDV_20190802T001834_20190802T001901_028383_033512_F54A,S1A_IW_SLC__1SDV_20190814T001835_20190814T001902_028558_033ACC_53D7\n",
      "S1A_IW_SLC__1SDV_20190814T001835_20190814T001902_028558_033ACC_53D7,S1A_IW_SLC__1SDV_20190826T001836_20190826T001903_028733_0340D4_666E\n",
      "S1A_IW_SLC__1SDV_20190826T001836_20190826T001903_028733_0340D4_666E,S1A_IW_SLC__1SDV_20190907T001836_20190907T001903_028908_0346F0_36DF\n",
      "S1A_IW_SLC__1SDV_20190907T001836_20190907T001903_028908_0346F0_36DF,S1A_IW_SLC__1SDV_20190919T001837_20190919T001904_029083_034D00_586B\n",
      "S1A_IW_SLC__1SDV_20190919T001837_20190919T001904_029083_034D00_586B,S1A_IW_SLC__1SDV_20191001T001837_20191001T001904_029258_035306_76D9\n",
      "S1A_IW_SLC__1SDV_20191001T001837_20191001T001904_029258_035306_76D9,S1A_IW_SLC__1SDV_20191013T001837_20191013T001904_029433_035905_4924\n",
      "S1A_IW_SLC__1SDV_20191013T001837_20191013T001904_029433_035905_4924,S1A_IW_SLC__1SDV_20191106T001837_20191106T001904_029783_036530_4CA8\n",
      "S1A_IW_SLC__1SDV_20191106T001837_20191106T001904_029783_036530_4CA8,S1A_IW_SLC__1SDV_20191118T001837_20191118T001904_029958_036B4F_FD42\n",
      "S1A_IW_SLC__1SDV_20191118T001837_20191118T001904_029958_036B4F_FD42,S1A_IW_SLC__1SDV_20191130T001837_20191130T001904_030133_03715E_A9CE\n",
      "S1A_IW_SLC__1SDV_20191130T001837_20191130T001904_030133_03715E_A9CE,S1A_IW_SLC__1SDV_20191212T001836_20191212T001903_030308_037763_4B09\n",
      "S1A_IW_SLC__1SDV_20191212T001836_20191212T001903_030308_037763_4B09,S1A_IW_SLC__1SDV_20200117T001835_20200117T001902_030833_03899B_EB9D\n",
      "S1A_IW_SLC__1SDV_20200117T001835_20200117T001902_030833_03899B_EB9D,S1A_IW_SLC__1SDV_20200129T001834_20200129T001901_031008_038FC5_3E97\n",
      "S1A_IW_SLC__1SDV_20200129T001834_20200129T001901_031008_038FC5_3E97,S1A_IW_SLC__1SDV_20200210T001834_20200210T001901_031183_0395DE_D89E\n",
      "S1A_IW_SLC__1SDV_20200210T001834_20200210T001901_031183_0395DE_D89E,S1A_IW_SLC__1SDV_20200317T001834_20200317T001901_031708_03A800_1BFE\n",
      "S1A_IW_SLC__1SDV_20200317T001834_20200317T001901_031708_03A800_1BFE,S1A_IW_SLC__1SDV_20200329T001834_20200329T001901_031883_03AE27_23CB\n",
      "S1A_IW_SLC__1SDV_20200329T001834_20200329T001901_031883_03AE27_23CB,S1A_IW_SLC__1SDV_20200410T001834_20200410T001902_032058_03B45A_D08A\n",
      "S1A_IW_SLC__1SDV_20200410T001834_20200410T001902_032058_03B45A_D08A,S1A_IW_SLC__1SDV_20200422T001835_20200422T001902_032233_03BA79_4D19\n",
      "S1A_IW_SLC__1SDV_20200422T001835_20200422T001902_032233_03BA79_4D19,S1A_IW_SLC__1SDV_20200504T001822_20200504T001849_032408_03C0A5_D5E5\n",
      "S1A_IW_SLC__1SDV_20200504T001822_20200504T001849_032408_03C0A5_D5E5,S1A_IW_SLC__1SDV_20200516T001823_20200516T001850_032583_03C61D_8C01\n",
      "S1A_IW_SLC__1SDV_20200516T001823_20200516T001850_032583_03C61D_8C01,S1A_IW_SLC__1SDV_20200528T001823_20200528T001850_032758_03CB68_5F36\n",
      "S1A_IW_SLC__1SDV_20200528T001823_20200528T001850_032758_03CB68_5F36,S1A_IW_SLC__1SDV_20200609T001838_20200609T001905_032933_03D092_DF23\n",
      "S1A_IW_SLC__1SDV_20200609T001838_20200609T001905_032933_03D092_DF23,S1A_IW_SLC__1SDV_20200621T001838_20200621T001906_033108_03D5E1_C584\n",
      "S1A_IW_SLC__1SDV_20200621T001838_20200621T001906_033108_03D5E1_C584,S1A_IW_SLC__1SDV_20200703T001839_20200703T001906_033283_03DB2E_C71F\n",
      "S1A_IW_SLC__1SDV_20200703T001839_20200703T001906_033283_03DB2E_C71F,S1A_IW_SLC__1SDV_20200715T001840_20200715T001907_033458_03E085_8341\n",
      "S1A_IW_SLC__1SDV_20200715T001840_20200715T001907_033458_03E085_8341,S1A_IW_SLC__1SDV_20200727T001841_20200727T001908_033633_03E5E3_82FA\n",
      "S1A_IW_SLC__1SDV_20200727T001841_20200727T001908_033633_03E5E3_82FA,S1A_IW_SLC__1SDV_20200808T001841_20200808T001908_033808_03EB6D_AC7D\n",
      "S1A_IW_SLC__1SDV_20200808T001841_20200808T001908_033808_03EB6D_AC7D,S1A_IW_SLC__1SDV_20200820T001842_20200820T001909_033983_03F18E_8530\n",
      "S1A_IW_SLC__1SDV_20200820T001842_20200820T001909_033983_03F18E_8530,S1A_IW_SLC__1SDV_20200901T001843_20200901T001910_034158_03F7BC_B964\n",
      "S1A_IW_SLC__1SDV_20200913T001843_20200913T001910_034333_03FDDC_3EF8,S1A_IW_SLC__1SDV_20200925T001843_20200925T001911_034508_040406_CA91\n"
     ]
    }
   ],
   "source": [
    "#Create List of unzipped folders\n",
    "output = os.path.join(directory, 'rawData')\n",
    "folderList = os.listdir(output)\n",
    "vert_disp_list = []\n",
    "#Loop through the folders\n",
    "for x in range(len(folderList)):\n",
    "    folderName = os.path.join(output, folderList[x])\n",
    "    fileList = os.listdir(folderName)\n",
    "    #Loop through files in folder\n",
    "    for file in fileList:\n",
    "        #Select file that ends in vert_disp.tif\n",
    "        if file.endswith(\"vert_disp.tif\"):\n",
    "            fileName = os.path.join(folderName, file)\n",
    "            vert_disp_list.append(fileName)\n",
    "        if file.startswith(folderList[x]+'.txt'):\n",
    "            fileName = os.path.join(folderName, file)\n",
    "            f = open(fileName,'r')\n",
    "            lines = f.readlines()\n",
    "            scene1 = lines[0].split(' ')\n",
    "            scene2 = lines[1].split(' ')\n",
    "         \n",
    "            pair = scene1[2].replace('\\n','')+','+scene2[2].replace('\\n','')\n",
    "            print(pair)\n",
    "            cursor = conn.cursor()\n",
    "            cursor.execute(\"SELECT insar_name from project1 where insar_name = %s\",(folderList[x],))\n",
    "            row = cursor.fetchall()\n",
    "            if row == []:\n",
    "                cursor.execute(\"UPDATE project1 SET insar_name = %s where pair = %s\",(folderList[x],pair))\n",
    "                conn.commit()\n",
    "            cursor.close()\n",
    "\n",
    "#print(vert_disp_list)"
   ]
  },
  {
   "cell_type": "code",
   "execution_count": 18,
   "metadata": {},
   "outputs": [],
   "source": [
    "#Import library for file management\n",
    "import os\n",
    "\n",
    "#Libraries for dealing with geotifs\n",
    "from osgeo import gdal,ogr\n",
    "import rasterio as rio\n",
    "\n",
    "#Math and plotting\n",
    "import numpy as np\n",
    "from scipy.ndimage import maximum_filter\n",
    "import earthpy.plot as ep\n",
    "import matplotlib.pyplot as plt\n",
    "\n",
    "#Creating the gif\n",
    "import imageio"
   ]
  },
  {
   "cell_type": "code",
   "execution_count": 34,
   "metadata": {},
   "outputs": [
    {
     "name": "stdout",
     "output_type": "stream",
     "text": [
      "['c:\\\\Users\\\\Melay\\\\Documents\\\\CoastalEnrichment\\\\Code\\\\rawData\\\\S1AA_20181006T001831_20181018T001831_VVP012_INT80_G_ueF_F50E\\\\S1AA_20181006T001831_20181018T001831_VVP012_INT80_G_ueF_F50E_vert_disp.tif', 'c:\\\\Users\\\\Melay\\\\Documents\\\\CoastalEnrichment\\\\Code\\\\rawData\\\\S1AA_20181018T001831_20181030T001831_VVP012_INT80_G_ueF_0F0B\\\\S1AA_20181018T001831_20181030T001831_VVP012_INT80_G_ueF_0F0B_vert_disp.tif', 'c:\\\\Users\\\\Melay\\\\Documents\\\\CoastalEnrichment\\\\Code\\\\rawData\\\\S1AA_20181030T001831_20181111T001831_VVP012_INT80_G_ueF_AC52\\\\S1AA_20181030T001831_20181111T001831_VVP012_INT80_G_ueF_AC52_vert_disp.tif', 'c:\\\\Users\\\\Melay\\\\Documents\\\\CoastalEnrichment\\\\Code\\\\rawData\\\\S1AA_20181111T001831_20181123T001831_VVP012_INT80_G_ueF_9372\\\\S1AA_20181111T001831_20181123T001831_VVP012_INT80_G_ueF_9372_vert_disp.tif', 'c:\\\\Users\\\\Melay\\\\Documents\\\\CoastalEnrichment\\\\Code\\\\rawData\\\\S1AA_20181123T001831_20181217T001830_VVP024_INT80_G_ueF_65E9\\\\S1AA_20181123T001831_20181217T001830_VVP024_INT80_G_ueF_65E9_vert_disp.tif', 'c:\\\\Users\\\\Melay\\\\Documents\\\\CoastalEnrichment\\\\Code\\\\rawData\\\\S1AA_20181217T001830_20181229T001829_VVP012_INT80_G_ueF_4C33\\\\S1AA_20181217T001830_20181229T001829_VVP012_INT80_G_ueF_4C33_vert_disp.tif', 'c:\\\\Users\\\\Melay\\\\Documents\\\\CoastalEnrichment\\\\Code\\\\rawData\\\\S1AA_20181229T001829_20190110T001829_VVP012_INT80_G_ueF_DD12\\\\S1AA_20181229T001829_20190110T001829_VVP012_INT80_G_ueF_DD12_vert_disp.tif', 'c:\\\\Users\\\\Melay\\\\Documents\\\\CoastalEnrichment\\\\Code\\\\rawData\\\\S1AA_20190110T001829_20190122T001828_VVP012_INT80_G_ueF_BDDB\\\\S1AA_20190110T001829_20190122T001828_VVP012_INT80_G_ueF_BDDB_vert_disp.tif', 'c:\\\\Users\\\\Melay\\\\Documents\\\\CoastalEnrichment\\\\Code\\\\rawData\\\\S1AA_20190122T001828_20190203T001828_VVP012_INT80_G_ueF_6F5B\\\\S1AA_20190122T001828_20190203T001828_VVP012_INT80_G_ueF_6F5B_vert_disp.tif', 'c:\\\\Users\\\\Melay\\\\Documents\\\\CoastalEnrichment\\\\Code\\\\rawData\\\\S1AA_20190203T001828_20190404T001828_VVP060_INT80_G_ueF_D12E\\\\S1AA_20190203T001828_20190404T001828_VVP060_INT80_G_ueF_D12E_vert_disp.tif', 'c:\\\\Users\\\\Melay\\\\Documents\\\\CoastalEnrichment\\\\Code\\\\rawData\\\\S1AA_20190404T001828_20190416T001828_VVP012_INT80_G_ueF_3636\\\\S1AA_20190404T001828_20190416T001828_VVP012_INT80_G_ueF_3636_vert_disp.tif', 'c:\\\\Users\\\\Melay\\\\Documents\\\\CoastalEnrichment\\\\Code\\\\rawData\\\\S1AA_20190416T001828_20190510T001829_VVP024_INT80_G_ueF_604C\\\\S1AA_20190416T001828_20190510T001829_VVP024_INT80_G_ueF_604C_vert_disp.tif', 'c:\\\\Users\\\\Melay\\\\Documents\\\\CoastalEnrichment\\\\Code\\\\rawData\\\\S1AA_20190510T001829_20190522T001830_VVP012_INT80_G_ueF_9896\\\\S1AA_20190510T001829_20190522T001830_VVP012_INT80_G_ueF_9896_vert_disp.tif', 'c:\\\\Users\\\\Melay\\\\Documents\\\\CoastalEnrichment\\\\Code\\\\rawData\\\\S1AA_20190522T001830_20190615T001831_VVP024_INT80_G_ueF_A545\\\\S1AA_20190522T001830_20190615T001831_VVP024_INT80_G_ueF_A545_vert_disp.tif', 'c:\\\\Users\\\\Melay\\\\Documents\\\\CoastalEnrichment\\\\Code\\\\rawData\\\\S1AA_20190615T001831_20190627T001832_VVP012_INT80_G_ueF_8AE9\\\\S1AA_20190615T001831_20190627T001832_VVP012_INT80_G_ueF_8AE9_vert_disp.tif', 'c:\\\\Users\\\\Melay\\\\Documents\\\\CoastalEnrichment\\\\Code\\\\rawData\\\\S1AA_20190627T001832_20190709T001833_VVP012_INT80_G_ueF_C4B5\\\\S1AA_20190627T001832_20190709T001833_VVP012_INT80_G_ueF_C4B5_vert_disp.tif', 'c:\\\\Users\\\\Melay\\\\Documents\\\\CoastalEnrichment\\\\Code\\\\rawData\\\\S1AA_20190709T001833_20190721T001834_VVP012_INT80_G_ueF_13E7\\\\S1AA_20190709T001833_20190721T001834_VVP012_INT80_G_ueF_13E7_vert_disp.tif', 'c:\\\\Users\\\\Melay\\\\Documents\\\\CoastalEnrichment\\\\Code\\\\rawData\\\\S1AA_20190721T001834_20190802T001834_VVP012_INT80_G_ueF_A26E\\\\S1AA_20190721T001834_20190802T001834_VVP012_INT80_G_ueF_A26E_vert_disp.tif', 'c:\\\\Users\\\\Melay\\\\Documents\\\\CoastalEnrichment\\\\Code\\\\rawData\\\\S1AA_20190802T001834_20190814T001835_VVP012_INT80_G_ueF_81C5\\\\S1AA_20190802T001834_20190814T001835_VVP012_INT80_G_ueF_81C5_vert_disp.tif', 'c:\\\\Users\\\\Melay\\\\Documents\\\\CoastalEnrichment\\\\Code\\\\rawData\\\\S1AA_20190814T001835_20190826T001836_VVP012_INT80_G_ueF_880B\\\\S1AA_20190814T001835_20190826T001836_VVP012_INT80_G_ueF_880B_vert_disp.tif', 'c:\\\\Users\\\\Melay\\\\Documents\\\\CoastalEnrichment\\\\Code\\\\rawData\\\\S1AA_20190826T001836_20190907T001836_VVP012_INT80_G_ueF_A920\\\\S1AA_20190826T001836_20190907T001836_VVP012_INT80_G_ueF_A920_vert_disp.tif', 'c:\\\\Users\\\\Melay\\\\Documents\\\\CoastalEnrichment\\\\Code\\\\rawData\\\\S1AA_20190907T001836_20190919T001837_VVP012_INT80_G_ueF_0E0E\\\\S1AA_20190907T001836_20190919T001837_VVP012_INT80_G_ueF_0E0E_vert_disp.tif', 'c:\\\\Users\\\\Melay\\\\Documents\\\\CoastalEnrichment\\\\Code\\\\rawData\\\\S1AA_20190919T001837_20191001T001837_VVP012_INT80_G_ueF_2DA5\\\\S1AA_20190919T001837_20191001T001837_VVP012_INT80_G_ueF_2DA5_vert_disp.tif', 'c:\\\\Users\\\\Melay\\\\Documents\\\\CoastalEnrichment\\\\Code\\\\rawData\\\\S1AA_20191001T001837_20191013T001837_VVP012_INT80_G_ueF_C67E\\\\S1AA_20191001T001837_20191013T001837_VVP012_INT80_G_ueF_C67E_vert_disp.tif', 'c:\\\\Users\\\\Melay\\\\Documents\\\\CoastalEnrichment\\\\Code\\\\rawData\\\\S1AA_20191013T001837_20191106T001837_VVP024_INT80_G_ueF_886E\\\\S1AA_20191013T001837_20191106T001837_VVP024_INT80_G_ueF_886E_vert_disp.tif', 'c:\\\\Users\\\\Melay\\\\Documents\\\\CoastalEnrichment\\\\Code\\\\rawData\\\\S1AA_20191106T001837_20191118T001837_VVP012_INT80_G_ueF_554C\\\\S1AA_20191106T001837_20191118T001837_VVP012_INT80_G_ueF_554C_vert_disp.tif', 'c:\\\\Users\\\\Melay\\\\Documents\\\\CoastalEnrichment\\\\Code\\\\rawData\\\\S1AA_20191118T001837_20191130T001837_VVP012_INT80_G_ueF_7863\\\\S1AA_20191118T001837_20191130T001837_VVP012_INT80_G_ueF_7863_vert_disp.tif', 'c:\\\\Users\\\\Melay\\\\Documents\\\\CoastalEnrichment\\\\Code\\\\rawData\\\\S1AA_20191130T001837_20191212T001836_VVP012_INT80_G_ueF_CA4D\\\\S1AA_20191130T001837_20191212T001836_VVP012_INT80_G_ueF_CA4D_vert_disp.tif', 'c:\\\\Users\\\\Melay\\\\Documents\\\\CoastalEnrichment\\\\Code\\\\rawData\\\\S1AA_20191212T001836_20200117T001835_VVP036_INT80_G_ueF_4B92\\\\S1AA_20191212T001836_20200117T001835_VVP036_INT80_G_ueF_4B92_vert_disp.tif', 'c:\\\\Users\\\\Melay\\\\Documents\\\\CoastalEnrichment\\\\Code\\\\rawData\\\\S1AA_20200117T001835_20200129T001834_VVP012_INT80_G_ueF_1999\\\\S1AA_20200117T001835_20200129T001834_VVP012_INT80_G_ueF_1999_vert_disp.tif', 'c:\\\\Users\\\\Melay\\\\Documents\\\\CoastalEnrichment\\\\Code\\\\rawData\\\\S1AA_20200129T001834_20200210T001834_VVP012_INT80_G_ueF_DF43\\\\S1AA_20200129T001834_20200210T001834_VVP012_INT80_G_ueF_DF43_vert_disp.tif', 'c:\\\\Users\\\\Melay\\\\Documents\\\\CoastalEnrichment\\\\Code\\\\rawData\\\\S1AA_20200210T001834_20200317T001834_VVP036_INT80_G_ueF_CD4C\\\\S1AA_20200210T001834_20200317T001834_VVP036_INT80_G_ueF_CD4C_vert_disp.tif', 'c:\\\\Users\\\\Melay\\\\Documents\\\\CoastalEnrichment\\\\Code\\\\rawData\\\\S1AA_20200317T001834_20200329T001834_VVP012_INT80_G_ueF_0CEC\\\\S1AA_20200317T001834_20200329T001834_VVP012_INT80_G_ueF_0CEC_vert_disp.tif', 'c:\\\\Users\\\\Melay\\\\Documents\\\\CoastalEnrichment\\\\Code\\\\rawData\\\\S1AA_20200329T001834_20200410T001834_VVP012_INT80_G_ueF_E19F\\\\S1AA_20200329T001834_20200410T001834_VVP012_INT80_G_ueF_E19F_vert_disp.tif', 'c:\\\\Users\\\\Melay\\\\Documents\\\\CoastalEnrichment\\\\Code\\\\rawData\\\\S1AA_20200410T001834_20200422T001835_VVP012_INT80_G_ueF_EDCA\\\\S1AA_20200410T001834_20200422T001835_VVP012_INT80_G_ueF_EDCA_vert_disp.tif', 'c:\\\\Users\\\\Melay\\\\Documents\\\\CoastalEnrichment\\\\Code\\\\rawData\\\\S1AA_20200422T001835_20200504T001822_VVP012_INT80_G_ueF_F32E\\\\S1AA_20200422T001835_20200504T001822_VVP012_INT80_G_ueF_F32E_vert_disp.tif', 'c:\\\\Users\\\\Melay\\\\Documents\\\\CoastalEnrichment\\\\Code\\\\rawData\\\\S1AA_20200504T001822_20200516T001823_VVP012_INT80_G_ueF_653C\\\\S1AA_20200504T001822_20200516T001823_VVP012_INT80_G_ueF_653C_vert_disp.tif', 'c:\\\\Users\\\\Melay\\\\Documents\\\\CoastalEnrichment\\\\Code\\\\rawData\\\\S1AA_20200516T001823_20200528T001823_VVP012_INT80_G_ueF_2AEE\\\\S1AA_20200516T001823_20200528T001823_VVP012_INT80_G_ueF_2AEE_vert_disp.tif', 'c:\\\\Users\\\\Melay\\\\Documents\\\\CoastalEnrichment\\\\Code\\\\rawData\\\\S1AA_20200528T001823_20200609T001838_VVP012_INT80_G_ueF_10C3\\\\S1AA_20200528T001823_20200609T001838_VVP012_INT80_G_ueF_10C3_vert_disp.tif', 'c:\\\\Users\\\\Melay\\\\Documents\\\\CoastalEnrichment\\\\Code\\\\rawData\\\\S1AA_20200609T001838_20200621T001838_VVP012_INT80_G_ueF_A21B\\\\S1AA_20200609T001838_20200621T001838_VVP012_INT80_G_ueF_A21B_vert_disp.tif', 'c:\\\\Users\\\\Melay\\\\Documents\\\\CoastalEnrichment\\\\Code\\\\rawData\\\\S1AA_20200621T001838_20200703T001839_VVP012_INT80_G_ueF_2320\\\\S1AA_20200621T001838_20200703T001839_VVP012_INT80_G_ueF_2320_vert_disp.tif', 'c:\\\\Users\\\\Melay\\\\Documents\\\\CoastalEnrichment\\\\Code\\\\rawData\\\\S1AA_20200703T001839_20200715T001840_VVP012_INT80_G_ueF_4DC0\\\\S1AA_20200703T001839_20200715T001840_VVP012_INT80_G_ueF_4DC0_vert_disp.tif', 'c:\\\\Users\\\\Melay\\\\Documents\\\\CoastalEnrichment\\\\Code\\\\rawData\\\\S1AA_20200715T001840_20200727T001841_VVP012_INT80_G_ueF_31DF\\\\S1AA_20200715T001840_20200727T001841_VVP012_INT80_G_ueF_31DF_vert_disp.tif', 'c:\\\\Users\\\\Melay\\\\Documents\\\\CoastalEnrichment\\\\Code\\\\rawData\\\\S1AA_20200727T001841_20200808T001841_VVP012_INT80_G_ueF_8744\\\\S1AA_20200727T001841_20200808T001841_VVP012_INT80_G_ueF_8744_vert_disp.tif', 'c:\\\\Users\\\\Melay\\\\Documents\\\\CoastalEnrichment\\\\Code\\\\rawData\\\\S1AA_20200808T001841_20200820T001842_VVP012_INT80_G_ueF_48DA\\\\S1AA_20200808T001841_20200820T001842_VVP012_INT80_G_ueF_48DA_vert_disp.tif', 'c:\\\\Users\\\\Melay\\\\Documents\\\\CoastalEnrichment\\\\Code\\\\rawData\\\\S1AA_20200820T001842_20200901T001843_VVP012_INT80_G_ueF_8A04\\\\S1AA_20200820T001842_20200901T001843_VVP012_INT80_G_ueF_8A04_vert_disp.tif', 'c:\\\\Users\\\\Melay\\\\Documents\\\\CoastalEnrichment\\\\Code\\\\rawData\\\\S1AA_20200913T001843_20200925T001843_VVP012_INT80_G_ueF_4C34\\\\S1AA_20200913T001843_20200925T001843_VVP012_INT80_G_ueF_4C34_vert_disp.tif']\n"
     ]
    }
   ],
   "source": [
    "print(vert_disp_list)"
   ]
  },
  {
   "cell_type": "code",
   "execution_count": 36,
   "metadata": {},
   "outputs": [
    {
     "name": "stdout",
     "output_type": "stream",
     "text": [
      "BoundingBox(left=260040.0, bottom=3214600.0, right=545720.0, top=3441560.0)\n",
      "259880.0 3214600.0 545560.0 3441560.0\n",
      "259880.0 3214600.0 545560.0 3441400.0\n",
      "259880.0 3214600.0 545560.0 3441400.0\n",
      "259880.0 3214600.0 545560.0 3441400.0\n",
      "259880.0 3214440.0 545560.0 3441400.0\n",
      "259880.0 3214440.0 545560.0 3441400.0\n",
      "259880.0 3214440.0 545560.0 3441400.0\n",
      "259880.0 3214440.0 545560.0 3441400.0\n",
      "259880.0 3214440.0 545560.0 3441400.0\n",
      "259880.0 3214440.0 545560.0 3441400.0\n",
      "259880.0 3214440.0 545560.0 3441400.0\n",
      "259880.0 3214440.0 545560.0 3441400.0\n",
      "259880.0 3214440.0 545560.0 3441400.0\n",
      "259880.0 3214440.0 545560.0 3441400.0\n",
      "259880.0 3214440.0 545560.0 3441400.0\n",
      "259880.0 3214440.0 545560.0 3441400.0\n",
      "259880.0 3214440.0 545560.0 3441400.0\n",
      "259880.0 3214440.0 545560.0 3441400.0\n",
      "259880.0 3214440.0 545560.0 3441400.0\n",
      "259880.0 3214440.0 545560.0 3441400.0\n",
      "259880.0 3214440.0 545560.0 3441400.0\n",
      "259880.0 3214440.0 545560.0 3441400.0\n",
      "259880.0 3214440.0 545560.0 3441400.0\n",
      "259880.0 3214440.0 545560.0 3441400.0\n",
      "259880.0 3214440.0 545560.0 3441400.0\n",
      "259880.0 3214440.0 545560.0 3441400.0\n",
      "259880.0 3214440.0 545560.0 3441400.0\n",
      "259880.0 3214440.0 545560.0 3441400.0\n",
      "259880.0 3214440.0 545560.0 3441400.0\n",
      "259880.0 3214440.0 545560.0 3441400.0\n",
      "259880.0 3214440.0 545560.0 3441400.0\n",
      "259880.0 3214440.0 545560.0 3441400.0\n",
      "259880.0 3214440.0 545560.0 3441400.0\n",
      "259880.0 3214440.0 545560.0 3441400.0\n",
      "259880.0 3214440.0 545560.0 3349400.0\n",
      "259880.0 3122120.0 545560.0 3349400.0\n",
      "259880.0 3121960.0 545560.0 3349400.0\n",
      "259880.0 3121960.0 545560.0 3349400.0\n",
      "259880.0 3121960.0 545560.0 3349400.0\n",
      "259880.0 3121960.0 545560.0 3349400.0\n",
      "259880.0 3121960.0 545560.0 3349400.0\n",
      "259880.0 3121960.0 545560.0 3349400.0\n",
      "259880.0 3121960.0 545560.0 3349400.0\n",
      "259880.0 3121960.0 545560.0 3349400.0\n",
      "259880.0 3121960.0 544600.0 3349400.0\n",
      "259880.0 3121960.0 544600.0 3349400.0\n",
      "(259880.0, 3121960.0, 544600.0, 3349400.0)\n"
     ]
    }
   ],
   "source": [
    "dataset = rio.open(vert_disp_list[0])\n",
    "boundingBox = dataset.bounds\n",
    "left = boundingBox.left\n",
    "right = boundingBox.right\n",
    "top = boundingBox.top\n",
    "bottom = boundingBox.bottom\n",
    "print(boundingBox)\n",
    "for x in range(1,len(vert_disp_list)):\n",
    "    dataset = rio.open(vert_disp_list[x])\n",
    "    boundingBox = dataset.bounds\n",
    "    if boundingBox.left < left:\n",
    "        left = boundingBox.left\n",
    "    if boundingBox.right < right:\n",
    "        right = boundingBox.right\n",
    "    if boundingBox.top < top:\n",
    "        top = boundingBox.top\n",
    "    if boundingBox.bottom < bottom:\n",
    "        bottom = boundingBox.bottom\n",
    "    print(left,bottom,right,top)\n",
    "minbbox = (left,bottom,right,top)\n",
    "#outputBounds --- output bounds as (minX, minY, maxX, maxY) in target SRS\n",
    "\n",
    "print(minbbox)"
   ]
  },
  {
   "cell_type": "code",
   "execution_count": 39,
   "metadata": {},
   "outputs": [],
   "source": [
    "#Crop the water mask incase it does not have the min bounds\n",
    "#For loop to crop all the tif files to the min bounds\n",
    "#all files need to be the same height and width to work with them in numpy\n",
    "opts = gdal.WarpOptions(options=['tr'], outputBounds=minbbox, format=\"GTiff\")\n",
    "for geoTif in vert_disp_list:\n",
    "    dataset = gdal.Open(geoTif)\n",
    "    newfile = gdal.Warp(geoTif.split('.')[0]+'crop.tif', dataset , options=opts)\n",
    "    dataset = None #close the file"
   ]
  },
  {
   "cell_type": "code",
   "execution_count": 40,
   "metadata": {},
   "outputs": [
    {
     "name": "stdout",
     "output_type": "stream",
     "text": [
      "['c:\\\\Users\\\\Melay\\\\Documents\\\\CoastalEnrichment\\\\Code\\\\rawData\\\\S1AA_20181006T001831_20181018T001831_VVP012_INT80_G_ueF_F50E\\\\S1AA_20181006T001831_20181018T001831_VVP012_INT80_G_ueF_F50E_vert_dispcrop.tif', 'c:\\\\Users\\\\Melay\\\\Documents\\\\CoastalEnrichment\\\\Code\\\\rawData\\\\S1AA_20181018T001831_20181030T001831_VVP012_INT80_G_ueF_0F0B\\\\S1AA_20181018T001831_20181030T001831_VVP012_INT80_G_ueF_0F0B_vert_dispcrop.tif', 'c:\\\\Users\\\\Melay\\\\Documents\\\\CoastalEnrichment\\\\Code\\\\rawData\\\\S1AA_20181030T001831_20181111T001831_VVP012_INT80_G_ueF_AC52\\\\S1AA_20181030T001831_20181111T001831_VVP012_INT80_G_ueF_AC52_vert_dispcrop.tif', 'c:\\\\Users\\\\Melay\\\\Documents\\\\CoastalEnrichment\\\\Code\\\\rawData\\\\S1AA_20181111T001831_20181123T001831_VVP012_INT80_G_ueF_9372\\\\S1AA_20181111T001831_20181123T001831_VVP012_INT80_G_ueF_9372_vert_dispcrop.tif', 'c:\\\\Users\\\\Melay\\\\Documents\\\\CoastalEnrichment\\\\Code\\\\rawData\\\\S1AA_20181123T001831_20181217T001830_VVP024_INT80_G_ueF_65E9\\\\S1AA_20181123T001831_20181217T001830_VVP024_INT80_G_ueF_65E9_vert_dispcrop.tif', 'c:\\\\Users\\\\Melay\\\\Documents\\\\CoastalEnrichment\\\\Code\\\\rawData\\\\S1AA_20181217T001830_20181229T001829_VVP012_INT80_G_ueF_4C33\\\\S1AA_20181217T001830_20181229T001829_VVP012_INT80_G_ueF_4C33_vert_dispcrop.tif', 'c:\\\\Users\\\\Melay\\\\Documents\\\\CoastalEnrichment\\\\Code\\\\rawData\\\\S1AA_20181229T001829_20190110T001829_VVP012_INT80_G_ueF_DD12\\\\S1AA_20181229T001829_20190110T001829_VVP012_INT80_G_ueF_DD12_vert_dispcrop.tif', 'c:\\\\Users\\\\Melay\\\\Documents\\\\CoastalEnrichment\\\\Code\\\\rawData\\\\S1AA_20190110T001829_20190122T001828_VVP012_INT80_G_ueF_BDDB\\\\S1AA_20190110T001829_20190122T001828_VVP012_INT80_G_ueF_BDDB_vert_dispcrop.tif', 'c:\\\\Users\\\\Melay\\\\Documents\\\\CoastalEnrichment\\\\Code\\\\rawData\\\\S1AA_20190122T001828_20190203T001828_VVP012_INT80_G_ueF_6F5B\\\\S1AA_20190122T001828_20190203T001828_VVP012_INT80_G_ueF_6F5B_vert_dispcrop.tif', 'c:\\\\Users\\\\Melay\\\\Documents\\\\CoastalEnrichment\\\\Code\\\\rawData\\\\S1AA_20190203T001828_20190404T001828_VVP060_INT80_G_ueF_D12E\\\\S1AA_20190203T001828_20190404T001828_VVP060_INT80_G_ueF_D12E_vert_dispcrop.tif', 'c:\\\\Users\\\\Melay\\\\Documents\\\\CoastalEnrichment\\\\Code\\\\rawData\\\\S1AA_20190404T001828_20190416T001828_VVP012_INT80_G_ueF_3636\\\\S1AA_20190404T001828_20190416T001828_VVP012_INT80_G_ueF_3636_vert_dispcrop.tif', 'c:\\\\Users\\\\Melay\\\\Documents\\\\CoastalEnrichment\\\\Code\\\\rawData\\\\S1AA_20190416T001828_20190510T001829_VVP024_INT80_G_ueF_604C\\\\S1AA_20190416T001828_20190510T001829_VVP024_INT80_G_ueF_604C_vert_dispcrop.tif', 'c:\\\\Users\\\\Melay\\\\Documents\\\\CoastalEnrichment\\\\Code\\\\rawData\\\\S1AA_20190510T001829_20190522T001830_VVP012_INT80_G_ueF_9896\\\\S1AA_20190510T001829_20190522T001830_VVP012_INT80_G_ueF_9896_vert_dispcrop.tif', 'c:\\\\Users\\\\Melay\\\\Documents\\\\CoastalEnrichment\\\\Code\\\\rawData\\\\S1AA_20190522T001830_20190615T001831_VVP024_INT80_G_ueF_A545\\\\S1AA_20190522T001830_20190615T001831_VVP024_INT80_G_ueF_A545_vert_dispcrop.tif', 'c:\\\\Users\\\\Melay\\\\Documents\\\\CoastalEnrichment\\\\Code\\\\rawData\\\\S1AA_20190615T001831_20190627T001832_VVP012_INT80_G_ueF_8AE9\\\\S1AA_20190615T001831_20190627T001832_VVP012_INT80_G_ueF_8AE9_vert_dispcrop.tif', 'c:\\\\Users\\\\Melay\\\\Documents\\\\CoastalEnrichment\\\\Code\\\\rawData\\\\S1AA_20190627T001832_20190709T001833_VVP012_INT80_G_ueF_C4B5\\\\S1AA_20190627T001832_20190709T001833_VVP012_INT80_G_ueF_C4B5_vert_dispcrop.tif', 'c:\\\\Users\\\\Melay\\\\Documents\\\\CoastalEnrichment\\\\Code\\\\rawData\\\\S1AA_20190709T001833_20190721T001834_VVP012_INT80_G_ueF_13E7\\\\S1AA_20190709T001833_20190721T001834_VVP012_INT80_G_ueF_13E7_vert_dispcrop.tif', 'c:\\\\Users\\\\Melay\\\\Documents\\\\CoastalEnrichment\\\\Code\\\\rawData\\\\S1AA_20190721T001834_20190802T001834_VVP012_INT80_G_ueF_A26E\\\\S1AA_20190721T001834_20190802T001834_VVP012_INT80_G_ueF_A26E_vert_dispcrop.tif', 'c:\\\\Users\\\\Melay\\\\Documents\\\\CoastalEnrichment\\\\Code\\\\rawData\\\\S1AA_20190802T001834_20190814T001835_VVP012_INT80_G_ueF_81C5\\\\S1AA_20190802T001834_20190814T001835_VVP012_INT80_G_ueF_81C5_vert_dispcrop.tif', 'c:\\\\Users\\\\Melay\\\\Documents\\\\CoastalEnrichment\\\\Code\\\\rawData\\\\S1AA_20190814T001835_20190826T001836_VVP012_INT80_G_ueF_880B\\\\S1AA_20190814T001835_20190826T001836_VVP012_INT80_G_ueF_880B_vert_dispcrop.tif', 'c:\\\\Users\\\\Melay\\\\Documents\\\\CoastalEnrichment\\\\Code\\\\rawData\\\\S1AA_20190826T001836_20190907T001836_VVP012_INT80_G_ueF_A920\\\\S1AA_20190826T001836_20190907T001836_VVP012_INT80_G_ueF_A920_vert_dispcrop.tif', 'c:\\\\Users\\\\Melay\\\\Documents\\\\CoastalEnrichment\\\\Code\\\\rawData\\\\S1AA_20190907T001836_20190919T001837_VVP012_INT80_G_ueF_0E0E\\\\S1AA_20190907T001836_20190919T001837_VVP012_INT80_G_ueF_0E0E_vert_dispcrop.tif', 'c:\\\\Users\\\\Melay\\\\Documents\\\\CoastalEnrichment\\\\Code\\\\rawData\\\\S1AA_20190919T001837_20191001T001837_VVP012_INT80_G_ueF_2DA5\\\\S1AA_20190919T001837_20191001T001837_VVP012_INT80_G_ueF_2DA5_vert_dispcrop.tif', 'c:\\\\Users\\\\Melay\\\\Documents\\\\CoastalEnrichment\\\\Code\\\\rawData\\\\S1AA_20191001T001837_20191013T001837_VVP012_INT80_G_ueF_C67E\\\\S1AA_20191001T001837_20191013T001837_VVP012_INT80_G_ueF_C67E_vert_dispcrop.tif', 'c:\\\\Users\\\\Melay\\\\Documents\\\\CoastalEnrichment\\\\Code\\\\rawData\\\\S1AA_20191013T001837_20191106T001837_VVP024_INT80_G_ueF_886E\\\\S1AA_20191013T001837_20191106T001837_VVP024_INT80_G_ueF_886E_vert_dispcrop.tif', 'c:\\\\Users\\\\Melay\\\\Documents\\\\CoastalEnrichment\\\\Code\\\\rawData\\\\S1AA_20191106T001837_20191118T001837_VVP012_INT80_G_ueF_554C\\\\S1AA_20191106T001837_20191118T001837_VVP012_INT80_G_ueF_554C_vert_dispcrop.tif', 'c:\\\\Users\\\\Melay\\\\Documents\\\\CoastalEnrichment\\\\Code\\\\rawData\\\\S1AA_20191118T001837_20191130T001837_VVP012_INT80_G_ueF_7863\\\\S1AA_20191118T001837_20191130T001837_VVP012_INT80_G_ueF_7863_vert_dispcrop.tif', 'c:\\\\Users\\\\Melay\\\\Documents\\\\CoastalEnrichment\\\\Code\\\\rawData\\\\S1AA_20191130T001837_20191212T001836_VVP012_INT80_G_ueF_CA4D\\\\S1AA_20191130T001837_20191212T001836_VVP012_INT80_G_ueF_CA4D_vert_dispcrop.tif', 'c:\\\\Users\\\\Melay\\\\Documents\\\\CoastalEnrichment\\\\Code\\\\rawData\\\\S1AA_20191212T001836_20200117T001835_VVP036_INT80_G_ueF_4B92\\\\S1AA_20191212T001836_20200117T001835_VVP036_INT80_G_ueF_4B92_vert_dispcrop.tif', 'c:\\\\Users\\\\Melay\\\\Documents\\\\CoastalEnrichment\\\\Code\\\\rawData\\\\S1AA_20200117T001835_20200129T001834_VVP012_INT80_G_ueF_1999\\\\S1AA_20200117T001835_20200129T001834_VVP012_INT80_G_ueF_1999_vert_dispcrop.tif', 'c:\\\\Users\\\\Melay\\\\Documents\\\\CoastalEnrichment\\\\Code\\\\rawData\\\\S1AA_20200129T001834_20200210T001834_VVP012_INT80_G_ueF_DF43\\\\S1AA_20200129T001834_20200210T001834_VVP012_INT80_G_ueF_DF43_vert_dispcrop.tif', 'c:\\\\Users\\\\Melay\\\\Documents\\\\CoastalEnrichment\\\\Code\\\\rawData\\\\S1AA_20200210T001834_20200317T001834_VVP036_INT80_G_ueF_CD4C\\\\S1AA_20200210T001834_20200317T001834_VVP036_INT80_G_ueF_CD4C_vert_dispcrop.tif', 'c:\\\\Users\\\\Melay\\\\Documents\\\\CoastalEnrichment\\\\Code\\\\rawData\\\\S1AA_20200317T001834_20200329T001834_VVP012_INT80_G_ueF_0CEC\\\\S1AA_20200317T001834_20200329T001834_VVP012_INT80_G_ueF_0CEC_vert_dispcrop.tif', 'c:\\\\Users\\\\Melay\\\\Documents\\\\CoastalEnrichment\\\\Code\\\\rawData\\\\S1AA_20200329T001834_20200410T001834_VVP012_INT80_G_ueF_E19F\\\\S1AA_20200329T001834_20200410T001834_VVP012_INT80_G_ueF_E19F_vert_dispcrop.tif', 'c:\\\\Users\\\\Melay\\\\Documents\\\\CoastalEnrichment\\\\Code\\\\rawData\\\\S1AA_20200410T001834_20200422T001835_VVP012_INT80_G_ueF_EDCA\\\\S1AA_20200410T001834_20200422T001835_VVP012_INT80_G_ueF_EDCA_vert_dispcrop.tif', 'c:\\\\Users\\\\Melay\\\\Documents\\\\CoastalEnrichment\\\\Code\\\\rawData\\\\S1AA_20200422T001835_20200504T001822_VVP012_INT80_G_ueF_F32E\\\\S1AA_20200422T001835_20200504T001822_VVP012_INT80_G_ueF_F32E_vert_dispcrop.tif', 'c:\\\\Users\\\\Melay\\\\Documents\\\\CoastalEnrichment\\\\Code\\\\rawData\\\\S1AA_20200504T001822_20200516T001823_VVP012_INT80_G_ueF_653C\\\\S1AA_20200504T001822_20200516T001823_VVP012_INT80_G_ueF_653C_vert_dispcrop.tif', 'c:\\\\Users\\\\Melay\\\\Documents\\\\CoastalEnrichment\\\\Code\\\\rawData\\\\S1AA_20200516T001823_20200528T001823_VVP012_INT80_G_ueF_2AEE\\\\S1AA_20200516T001823_20200528T001823_VVP012_INT80_G_ueF_2AEE_vert_dispcrop.tif', 'c:\\\\Users\\\\Melay\\\\Documents\\\\CoastalEnrichment\\\\Code\\\\rawData\\\\S1AA_20200528T001823_20200609T001838_VVP012_INT80_G_ueF_10C3\\\\S1AA_20200528T001823_20200609T001838_VVP012_INT80_G_ueF_10C3_vert_dispcrop.tif', 'c:\\\\Users\\\\Melay\\\\Documents\\\\CoastalEnrichment\\\\Code\\\\rawData\\\\S1AA_20200609T001838_20200621T001838_VVP012_INT80_G_ueF_A21B\\\\S1AA_20200609T001838_20200621T001838_VVP012_INT80_G_ueF_A21B_vert_dispcrop.tif', 'c:\\\\Users\\\\Melay\\\\Documents\\\\CoastalEnrichment\\\\Code\\\\rawData\\\\S1AA_20200621T001838_20200703T001839_VVP012_INT80_G_ueF_2320\\\\S1AA_20200621T001838_20200703T001839_VVP012_INT80_G_ueF_2320_vert_dispcrop.tif', 'c:\\\\Users\\\\Melay\\\\Documents\\\\CoastalEnrichment\\\\Code\\\\rawData\\\\S1AA_20200703T001839_20200715T001840_VVP012_INT80_G_ueF_4DC0\\\\S1AA_20200703T001839_20200715T001840_VVP012_INT80_G_ueF_4DC0_vert_dispcrop.tif', 'c:\\\\Users\\\\Melay\\\\Documents\\\\CoastalEnrichment\\\\Code\\\\rawData\\\\S1AA_20200715T001840_20200727T001841_VVP012_INT80_G_ueF_31DF\\\\S1AA_20200715T001840_20200727T001841_VVP012_INT80_G_ueF_31DF_vert_dispcrop.tif', 'c:\\\\Users\\\\Melay\\\\Documents\\\\CoastalEnrichment\\\\Code\\\\rawData\\\\S1AA_20200727T001841_20200808T001841_VVP012_INT80_G_ueF_8744\\\\S1AA_20200727T001841_20200808T001841_VVP012_INT80_G_ueF_8744_vert_dispcrop.tif', 'c:\\\\Users\\\\Melay\\\\Documents\\\\CoastalEnrichment\\\\Code\\\\rawData\\\\S1AA_20200808T001841_20200820T001842_VVP012_INT80_G_ueF_48DA\\\\S1AA_20200808T001841_20200820T001842_VVP012_INT80_G_ueF_48DA_vert_dispcrop.tif', 'c:\\\\Users\\\\Melay\\\\Documents\\\\CoastalEnrichment\\\\Code\\\\rawData\\\\S1AA_20200820T001842_20200901T001843_VVP012_INT80_G_ueF_8A04\\\\S1AA_20200820T001842_20200901T001843_VVP012_INT80_G_ueF_8A04_vert_dispcrop.tif', 'c:\\\\Users\\\\Melay\\\\Documents\\\\CoastalEnrichment\\\\Code\\\\rawData\\\\S1AA_20200913T001843_20200925T001843_VVP012_INT80_G_ueF_4C34\\\\S1AA_20200913T001843_20200925T001843_VVP012_INT80_G_ueF_4C34_vert_dispcrop.tif']\n"
     ]
    }
   ],
   "source": [
    "croppedList = []\n",
    "for x in range(len(folderList)):\n",
    "    folderName = os.path.join(output, folderList[x])\n",
    "    fileList = os.listdir(folderName)\n",
    "    #Loop through files in folder\n",
    "    for file in fileList:\n",
    "        #Select file that ends in vert_disp.tif\n",
    "        if file.endswith(\"crop.tif\"):\n",
    "            fileName = os.path.join(folderName, file)\n",
    "            croppedList.append(fileName)\n",
    "print(croppedList)"
   ]
  }
 ],
 "metadata": {
  "kernelspec": {
   "display_name": "Python 3.10.5 64-bit",
   "language": "python",
   "name": "python3"
  },
  "language_info": {
   "codemirror_mode": {
    "name": "ipython",
    "version": 3
   },
   "file_extension": ".py",
   "mimetype": "text/x-python",
   "name": "python",
   "nbconvert_exporter": "python",
   "pygments_lexer": "ipython3",
   "version": "3.10.5"
  },
  "orig_nbformat": 4,
  "vscode": {
   "interpreter": {
    "hash": "9b4d75ac280b6c7c3aa43866cb82dc88915409b55fec83a093dd0284cb58708e"
   }
  }
 },
 "nbformat": 4,
 "nbformat_minor": 2
}
